{
 "cells": [
  {
   "cell_type": "markdown",
   "metadata": {
    "collapsed": true
   },
   "source": [
    "# 第一章:   数据结构以及算法"
   ]
  },
  {
   "cell_type": "markdown",
   "metadata": {},
   "source": [
    "## 1.1 . Unpacking a Sequence into Separate Vairables"
   ]
  },
  {
   "cell_type": "markdown",
   "metadata": {},
   "source": [
    "Problem:\n",
    "- You have an N-element tuple or sequence that you would like to unpack into a collection of N variables."
   ]
  },
  {
   "cell_type": "code",
   "execution_count": 1,
   "metadata": {},
   "outputs": [],
   "source": [
    "p = (4, 5)"
   ]
  },
  {
   "cell_type": "code",
   "execution_count": 2,
   "metadata": {},
   "outputs": [],
   "source": [
    "x, y = p\n"
   ]
  },
  {
   "cell_type": "code",
   "execution_count": 3,
   "metadata": {},
   "outputs": [
    {
     "data": {
      "text/plain": [
       "4"
      ]
     },
     "execution_count": 3,
     "metadata": {},
     "output_type": "execute_result"
    }
   ],
   "source": [
    "x"
   ]
  },
  {
   "cell_type": "code",
   "execution_count": 4,
   "metadata": {},
   "outputs": [
    {
     "data": {
      "text/plain": [
       "5"
      ]
     },
     "execution_count": 4,
     "metadata": {},
     "output_type": "execute_result"
    }
   ],
   "source": [
    "y"
   ]
  },
  {
   "cell_type": "code",
   "execution_count": 5,
   "metadata": {},
   "outputs": [],
   "source": [
    "data = ['ACME', 50, 91.1, (2012, 12, 21)]"
   ]
  },
  {
   "cell_type": "code",
   "execution_count": 6,
   "metadata": {},
   "outputs": [],
   "source": [
    "name, shares, price, date = data"
   ]
  },
  {
   "cell_type": "code",
   "execution_count": 7,
   "metadata": {},
   "outputs": [
    {
     "data": {
      "text/plain": [
       "'ACME'"
      ]
     },
     "execution_count": 7,
     "metadata": {},
     "output_type": "execute_result"
    }
   ],
   "source": [
    "name"
   ]
  },
  {
   "cell_type": "code",
   "execution_count": 8,
   "metadata": {},
   "outputs": [
    {
     "data": {
      "text/plain": [
       "(2012, 12, 21)"
      ]
     },
     "execution_count": 8,
     "metadata": {},
     "output_type": "execute_result"
    }
   ],
   "source": [
    "date"
   ]
  },
  {
   "cell_type": "code",
   "execution_count": 9,
   "metadata": {},
   "outputs": [],
   "source": [
    "name, shares, price, (year, month, day) = data\n"
   ]
  },
  {
   "cell_type": "code",
   "execution_count": 10,
   "metadata": {},
   "outputs": [
    {
     "data": {
      "text/plain": [
       "'ACME'"
      ]
     },
     "execution_count": 10,
     "metadata": {},
     "output_type": "execute_result"
    }
   ],
   "source": [
    "name"
   ]
  },
  {
   "cell_type": "code",
   "execution_count": 11,
   "metadata": {},
   "outputs": [
    {
     "data": {
      "text/plain": [
       "2012"
      ]
     },
     "execution_count": 11,
     "metadata": {},
     "output_type": "execute_result"
    }
   ],
   "source": [
    "year"
   ]
  },
  {
   "cell_type": "code",
   "execution_count": 12,
   "metadata": {},
   "outputs": [
    {
     "data": {
      "text/plain": [
       "12"
      ]
     },
     "execution_count": 12,
     "metadata": {},
     "output_type": "execute_result"
    }
   ],
   "source": [
    "month"
   ]
  },
  {
   "cell_type": "code",
   "execution_count": 13,
   "metadata": {},
   "outputs": [
    {
     "data": {
      "text/plain": [
       "21"
      ]
     },
     "execution_count": 13,
     "metadata": {},
     "output_type": "execute_result"
    }
   ],
   "source": [
    "day"
   ]
  },
  {
   "cell_type": "code",
   "execution_count": 14,
   "metadata": {},
   "outputs": [],
   "source": [
    "s = \"Hello\""
   ]
  },
  {
   "cell_type": "code",
   "execution_count": 15,
   "metadata": {},
   "outputs": [],
   "source": [
    "a, b, c, d, e = s\n"
   ]
  },
  {
   "cell_type": "code",
   "execution_count": 16,
   "metadata": {},
   "outputs": [
    {
     "data": {
      "text/plain": [
       "'H'"
      ]
     },
     "execution_count": 16,
     "metadata": {},
     "output_type": "execute_result"
    }
   ],
   "source": [
    "a"
   ]
  },
  {
   "cell_type": "code",
   "execution_count": 17,
   "metadata": {},
   "outputs": [
    {
     "data": {
      "text/plain": [
       "'e'"
      ]
     },
     "execution_count": 17,
     "metadata": {},
     "output_type": "execute_result"
    }
   ],
   "source": [
    "b"
   ]
  },
  {
   "cell_type": "markdown",
   "metadata": {},
   "source": [
    "- discard certain values use _ "
   ]
  },
  {
   "cell_type": "code",
   "execution_count": 18,
   "metadata": {},
   "outputs": [],
   "source": [
    "data = ['ACME', 50, 91.1, (2012, 12, 21)]"
   ]
  },
  {
   "cell_type": "code",
   "execution_count": 19,
   "metadata": {},
   "outputs": [],
   "source": [
    "_, shares, price, _ = data"
   ]
  },
  {
   "cell_type": "code",
   "execution_count": 20,
   "metadata": {},
   "outputs": [
    {
     "data": {
      "text/plain": [
       "50"
      ]
     },
     "execution_count": 20,
     "metadata": {},
     "output_type": "execute_result"
    }
   ],
   "source": [
    "shares"
   ]
  },
  {
   "cell_type": "markdown",
   "metadata": {},
   "source": [
    "## 1.2  . Unpacking Elements from Iterables of Arbitrary Length\n",
    " "
   ]
  },
  {
   "cell_type": "markdown",
   "metadata": {},
   "source": [
    "Problem\n",
    "\n",
    "- You need to unpack N elements from an iterable, but the iterable may be longer than N\n",
    "elements, causing a “too many values to unpack” exception."
   ]
  },
  {
   "cell_type": "code",
   "execution_count": 21,
   "metadata": {},
   "outputs": [],
   "source": [
    "def drop_first_last(grades):\n",
    "    first, *middle, last = grades\n",
    "    return avg(middle)"
   ]
  },
  {
   "cell_type": "code",
   "execution_count": 22,
   "metadata": {},
   "outputs": [],
   "source": [
    "sale_record =  [10, 8, 7, 1, 9, 5, 10, 3]"
   ]
  },
  {
   "cell_type": "code",
   "execution_count": 23,
   "metadata": {},
   "outputs": [],
   "source": [
    "*trailing_qtrs, current_qtr = sale_record"
   ]
  },
  {
   "cell_type": "code",
   "execution_count": 24,
   "metadata": {},
   "outputs": [],
   "source": [
    "trailing_avg = sum(trailing_qtrs) / len(trailing_qtrs)"
   ]
  },
  {
   "cell_type": "code",
   "execution_count": 25,
   "metadata": {},
   "outputs": [
    {
     "data": {
      "text/plain": [
       "7.142857142857143"
      ]
     },
     "execution_count": 25,
     "metadata": {},
     "output_type": "execute_result"
    }
   ],
   "source": [
    "trailing_avg"
   ]
  },
  {
   "cell_type": "code",
   "execution_count": 26,
   "metadata": {},
   "outputs": [
    {
     "data": {
      "text/plain": [
       "[10, 8, 7, 1, 9, 5, 10]"
      ]
     },
     "execution_count": 26,
     "metadata": {},
     "output_type": "execute_result"
    }
   ],
   "source": [
    "trailing_qtrs"
   ]
  },
  {
   "cell_type": "code",
   "execution_count": 27,
   "metadata": {},
   "outputs": [
    {
     "data": {
      "text/plain": [
       "3"
      ]
     },
     "execution_count": 27,
     "metadata": {},
     "output_type": "execute_result"
    }
   ],
   "source": [
    "current_qtr"
   ]
  },
  {
   "cell_type": "markdown",
   "metadata": {},
   "source": [
    "#### Discussion"
   ]
  },
  {
   "cell_type": "code",
   "execution_count": 28,
   "metadata": {},
   "outputs": [],
   "source": [
    "records = [('foo', 1, 2),('bar', 'hello'), ('foo', 3, 4)]"
   ]
  },
  {
   "cell_type": "code",
   "execution_count": 29,
   "metadata": {},
   "outputs": [],
   "source": [
    "def do_foo(x, y):\n",
    "     print('for', x, y)"
   ]
  },
  {
   "cell_type": "code",
   "execution_count": 30,
   "metadata": {},
   "outputs": [],
   "source": [
    "def do_bar(s):\n",
    "    print('bar', s)"
   ]
  },
  {
   "cell_type": "code",
   "execution_count": 31,
   "metadata": {},
   "outputs": [
    {
     "name": "stdout",
     "output_type": "stream",
     "text": [
      "for 1 2\n",
      "bar hello\n",
      "for 3 4\n"
     ]
    }
   ],
   "source": [
    "for tag, *args in records:\n",
    "   if tag == \"foo\":\n",
    "      do_foo(*args)\n",
    "   elif tag == 'bar':\n",
    "       do_bar(*args)"
   ]
  },
  {
   "cell_type": "markdown",
   "metadata": {},
   "source": [
    "### * unpacking can also be useful when combined with certain kinds of string processing opersion"
   ]
  },
  {
   "cell_type": "code",
   "execution_count": 32,
   "metadata": {},
   "outputs": [],
   "source": [
    "line = 'nobody:*:-2:-2:Unprivileded User:/var/empy:/user/bin/fals'"
   ]
  },
  {
   "cell_type": "code",
   "execution_count": 33,
   "metadata": {},
   "outputs": [],
   "source": [
    "uname, *field, homedir, sh = line.split(':')"
   ]
  },
  {
   "cell_type": "code",
   "execution_count": 34,
   "metadata": {},
   "outputs": [
    {
     "data": {
      "text/plain": [
       "'nobody'"
      ]
     },
     "execution_count": 34,
     "metadata": {},
     "output_type": "execute_result"
    }
   ],
   "source": [
    "uname"
   ]
  },
  {
   "cell_type": "code",
   "execution_count": 35,
   "metadata": {},
   "outputs": [
    {
     "data": {
      "text/plain": [
       "['*', '-2', '-2', 'Unprivileded User']"
      ]
     },
     "execution_count": 35,
     "metadata": {},
     "output_type": "execute_result"
    }
   ],
   "source": [
    "field"
   ]
  },
  {
   "cell_type": "code",
   "execution_count": 36,
   "metadata": {},
   "outputs": [
    {
     "data": {
      "text/plain": [
       "'/var/empy'"
      ]
     },
     "execution_count": 36,
     "metadata": {},
     "output_type": "execute_result"
    }
   ],
   "source": [
    "homedir"
   ]
  },
  {
   "cell_type": "code",
   "execution_count": 37,
   "metadata": {},
   "outputs": [
    {
     "data": {
      "text/plain": [
       "'/user/bin/fals'"
      ]
     },
     "execution_count": 37,
     "metadata": {},
     "output_type": "execute_result"
    }
   ],
   "source": [
    "sh"
   ]
  },
  {
   "cell_type": "code",
   "execution_count": 38,
   "metadata": {},
   "outputs": [],
   "source": [
    "record = ('ACME', 50, 123.45, (12, 18, 2012))"
   ]
  },
  {
   "cell_type": "code",
   "execution_count": 39,
   "metadata": {},
   "outputs": [],
   "source": [
    "name, *_, (*_, year) = record"
   ]
  },
  {
   "cell_type": "code",
   "execution_count": 40,
   "metadata": {},
   "outputs": [
    {
     "data": {
      "text/plain": [
       "'ACME'"
      ]
     },
     "execution_count": 40,
     "metadata": {},
     "output_type": "execute_result"
    }
   ],
   "source": [
    "name"
   ]
  },
  {
   "cell_type": "code",
   "execution_count": 41,
   "metadata": {},
   "outputs": [
    {
     "data": {
      "text/plain": [
       "2012"
      ]
     },
     "execution_count": 41,
     "metadata": {},
     "output_type": "execute_result"
    }
   ],
   "source": [
    "year"
   ]
  },
  {
   "cell_type": "code",
   "execution_count": 42,
   "metadata": {},
   "outputs": [],
   "source": [
    "items = [1, 10, 7, 4, 5, 9]"
   ]
  },
  {
   "cell_type": "code",
   "execution_count": 43,
   "metadata": {},
   "outputs": [],
   "source": [
    "head, *tail = items"
   ]
  },
  {
   "cell_type": "code",
   "execution_count": 44,
   "metadata": {},
   "outputs": [
    {
     "data": {
      "text/plain": [
       "1"
      ]
     },
     "execution_count": 44,
     "metadata": {},
     "output_type": "execute_result"
    }
   ],
   "source": [
    "head"
   ]
  },
  {
   "cell_type": "code",
   "execution_count": 45,
   "metadata": {},
   "outputs": [
    {
     "data": {
      "text/plain": [
       "[10, 7, 4, 5, 9]"
      ]
     },
     "execution_count": 45,
     "metadata": {},
     "output_type": "execute_result"
    }
   ],
   "source": [
    "tail"
   ]
  },
  {
   "cell_type": "code",
   "execution_count": 46,
   "metadata": {},
   "outputs": [],
   "source": [
    "def sum(items):\n",
    "    head, *tail = items\n",
    "    return head + sum(tail) if tail else head"
   ]
  },
  {
   "cell_type": "code",
   "execution_count": 47,
   "metadata": {},
   "outputs": [
    {
     "data": {
      "text/plain": [
       "35"
      ]
     },
     "execution_count": 47,
     "metadata": {},
     "output_type": "execute_result"
    }
   ],
   "source": [
    "sum(tail)"
   ]
  },
  {
   "cell_type": "markdown",
   "metadata": {},
   "source": [
    "## 1.3 Kepping The Last N Items"
   ]
  },
  {
   "cell_type": "markdown",
   "metadata": {},
   "source": [
    "#### Problem\n",
    "You want to keep a limited hoistory of the last few items seen during iteration or \n",
    "during some other kind of processing"
   ]
  },
  {
   "cell_type": "code",
   "execution_count": 48,
   "metadata": {},
   "outputs": [],
   "source": [
    "from collections import deque"
   ]
  },
  {
   "cell_type": "code",
   "execution_count": 49,
   "metadata": {},
   "outputs": [],
   "source": [
    "def searh(lines, pattern, hostroy=5):\n",
    "    previous_lines = deque(maxlen=hostroy)\n",
    "    for line in lines:\n",
    "        if pattern in line:\n",
    "            yield line, previous_lines\n",
    "        previous_lines.append(line)"
   ]
  },
  {
   "cell_type": "code",
   "execution_count": 50,
   "metadata": {},
   "outputs": [
    {
     "name": "stdout",
     "output_type": "stream",
     "text": [
      "mined by context.\n",
      "This icon signifies a tip, suggestion, or general note.\n",
      "This icon indicates a warning or caution.\n",
      "Online Code Examples\n",
      "Almost all of the code examples in this book are available online at http://github.com/\n",
      "dabeaz/python-cookbook. The authors welcome bug fixes, improvements, and com‐\n",
      "------------------------------\n",
      "Sebastopol, CA 95472\n",
      "800-998-9938 (in the United States or Canada)\n",
      "707-829-0515 (international or local)\n",
      "707-829-0104 (fax)\n",
      "We have a web page for this book, where we list errata, examples, and any additional\n",
      "information. You can access this page at http://oreil.ly/python_cookbook_3e.\n",
      "------------------------------\n",
      " yield line, previous_lines\n",
      " previous_lines.append(line)\n",
      "# Example use on a file\n",
      "if __name__ == '__main__':\n",
      " with open('somefile.txt') as f:\n",
      " for line, prevlines in search(f, 'python', 5):\n",
      "------------------------------\n",
      "Here are a few other examples:\n",
      "# Determine if any .py files exist in a directory\n",
      "import os\n",
      "files = os.listdir('dirname')\n",
      "if any(name.endswith('.py') for name in files):\n",
      " print('There be python!')\n",
      "------------------------------\n",
      "import os\n",
      "files = os.listdir('dirname')\n",
      "if any(name.endswith('.py') for name in files):\n",
      " print('There be python!')\n",
      "else:\n",
      " print('Sorry, no python.')\n",
      "------------------------------\n",
      ">>> filename = 'spam.txt'\n",
      ">>> filename.endswith('.txt')\n",
      "True\n",
      ">>> filename.startswith('file:')\n",
      "False\n",
      ">>> url = 'http://www.python.org'\n",
      "------------------------------\n",
      " return f.read()\n",
      "Oddly, this is one part of Python where a tuple is actually required as input. If you happen\n",
      "to have the choices specified in a list or set, just make sure you convert them using\n",
      "tuple() first. For example:\n",
      ">>> choices = ['http:', 'ftp:']\n",
      ">>> url = 'http://www.python.org'\n",
      "------------------------------\n",
      "basic prefix and suffix checking. Similar operations can be performed with slices, but\n",
      "are far less elegant. For example:\n",
      ">>> filename = 'spam.txt'\n",
      ">>> filename[-4:] == '.txt'\n",
      "True\n",
      ">>> url = 'http://www.python.org'\n",
      "------------------------------\n",
      ">>> url[:5] == 'http:' or url[:6] == 'https:' or url[:4] == 'ftp:'\n",
      "True\n",
      ">>>\n",
      "You might also be inclined to use regular expressions as an alternative. For example:\n",
      ">>> import re\n",
      ">>> url = 'http://www.python.org'\n",
      "------------------------------\n",
      "46 | Chapter 2: Strings and Text\n",
      "www.it-ebooks.info\n",
      "Solution\n",
      "To perform case-insensitive text operations, you need to use the re module and supply\n",
      "the re.IGNORECASE flag to various operations. For example:\n",
      ">>> text = 'UPPER PYTHON, lower python, Mixed Python'\n",
      "------------------------------\n",
      "www.it-ebooks.info\n",
      "Solution\n",
      "To perform case-insensitive text operations, you need to use the re module and supply\n",
      "the re.IGNORECASE flag to various operations. For example:\n",
      ">>> text = 'UPPER PYTHON, lower python, Mixed Python'\n",
      ">>> re.findall('python', text, flags=re.IGNORECASE)\n",
      "------------------------------\n",
      "Solution\n",
      "To perform case-insensitive text operations, you need to use the re module and supply\n",
      "the re.IGNORECASE flag to various operations. For example:\n",
      ">>> text = 'UPPER PYTHON, lower python, Mixed Python'\n",
      ">>> re.findall('python', text, flags=re.IGNORECASE)\n",
      "['PYTHON', 'python', 'Python']\n",
      "------------------------------\n",
      "To perform case-insensitive text operations, you need to use the re module and supply\n",
      "the re.IGNORECASE flag to various operations. For example:\n",
      ">>> text = 'UPPER PYTHON, lower python, Mixed Python'\n",
      ">>> re.findall('python', text, flags=re.IGNORECASE)\n",
      "['PYTHON', 'python', 'Python']\n",
      ">>> re.sub('python', 'snake', text, flags=re.IGNORECASE)\n",
      "------------------------------\n",
      " return word.capitalize()\n",
      " else:\n",
      " return word\n",
      " return replace\n",
      "Here is an example of using this last function:\n",
      ">>> re.sub('python', matchcase('snake'), text, flags=re.IGNORECASE)\n",
      "------------------------------\n",
      "...\n",
      ">>> b = unicodedata.normalize('NFD', a)\n",
      ">>> b\n",
      "'pýtĥöñ is awesome\\n'\n",
      ">>> b.translate(cmb_chrs)\n",
      "'python is awesome\\n'\n",
      "------------------------------\n",
      "example:\n",
      ">>> a\n",
      "'pýtĥöñ is awesome\\n'\n",
      ">>> b = unicodedata.normalize('NFD', a)\n",
      ">>> b.encode('ascii', 'ignore').decode('ascii')\n",
      "'python is awesome\\n'\n",
      "------------------------------\n",
      ">>> data = b'FOO:BAR,SPAM'\n",
      ">>> import re\n",
      ">>> re.split('[:,]',data)\n",
      "Traceback (most recent call last):\n",
      " File \"<stdin>\", line 1, in <module>\n",
      " File \"/usr/local/lib/python3.3/re.py\", line 191, in split\n",
      "------------------------------\n",
      "This recipe works by mapping the start date and the target date to their numeric position\n",
      "in the week (with Monday as day 0). Modular arithmetic is then used to figure out how\n",
      "many days ago the target date last occurred. From there, the desired date is calculated\n",
      "from the start date by subtracting an appropriate timedelta instance.\n",
      "If you’re performing a lot of date calculations like this, you may be better off installing\n",
      "the python-dateutil package instead. For example, here is an example of performing\n",
      "------------------------------\n",
      "creates an instance, you can access internal attributes, such as the history attribute or\n",
      "the clear() method. For example:\n",
      "with open('somefile.txt') as f:\n",
      " lines = linehistory(f)\n",
      " for line in lines:\n",
      " if 'python' in line:\n",
      "------------------------------\n",
      " pat = re.compile(pattern)\n",
      " for line in lines:\n",
      " if pat.search(line):\n",
      " yield line\n",
      "You can now easily stack these functions together to make a processing pipeline. For\n",
      "example, to find all log lines that contain the word python, you would just do this:\n",
      "------------------------------\n",
      "4.13. Creating Data Processing Pipelines | 133\n",
      "www.it-ebooks.info\n",
      "lognames = gen_find('access-log*', 'www')\n",
      "files = gen_opener(lognames)\n",
      "lines = gen_concatenate(files)\n",
      "pylines = gen_grep('(?i)python', lines)\n",
      "------------------------------\n",
      "expressions. For example, this version finds the number of bytes transferred and sums\n",
      "the total:\n",
      "lognames = gen_find('access-log*', 'www')\n",
      "files = gen_opener(lognames)\n",
      "lines = gen_concatenate(files)\n",
      "pylines = gen_grep('(?i)python', lines)\n",
      "------------------------------\n",
      "text file, you might encounter an encoding or decoding error. For instance:\n",
      ">>> f = open('sample.txt', 'rt', encoding='ascii')\n",
      ">>> f.read()\n",
      "Traceback (most recent call last):\n",
      " File \"<stdin>\", line 1, in <module>\n",
      " File \"/usr/local/lib/python3.3/encodings/ascii.py\", line 26, in decode\n",
      "------------------------------\n",
      "True\n",
      ">>> # Is a directory\n",
      ">>> os.path.isdir('/etc/passwd')\n",
      "False\n",
      ">>> # Is a symbolic link\n",
      ">>> os.path.islink('/usr/local/bin/python3')\n",
      "------------------------------\n",
      "False\n",
      ">>> # Is a symbolic link\n",
      ">>> os.path.islink('/usr/local/bin/python3')\n",
      "True\n",
      ">>> # Get the file linked to\n",
      ">>> os.path.realpath('/usr/local/bin/python3')\n",
      "------------------------------\n",
      ">>> # Is a symbolic link\n",
      ">>> os.path.islink('/usr/local/bin/python3')\n",
      "True\n",
      ">>> # Get the file linked to\n",
      ">>> os.path.realpath('/usr/local/bin/python3')\n",
      "'/usr/local/bin/python3.3'\n",
      "------------------------------\n",
      "aware of when writing scripts is that you might need to worry about permissions—\n",
      "especially for operations that get metadata. For example:\n",
      ">>> os.path.getsize('/Users/guido/Desktop/foo.txt')\n",
      "Traceback (most recent call last):\n",
      " File \"<stdin>\", line 1, in <module>\n",
      " File \"/usr/local/lib/python3.3/genericpath.py\", line 49, in getsize\n",
      "------------------------------\n",
      "Solution\n",
      "If you want to add Unicode encoding/decoding to an already existing file object that’s\n",
      "opened in binary mode, wrap it with an io.TextIOWrapper() object. For example:\n",
      "import urllib.request\n",
      "import io\n",
      "u = urllib.request.urlopen('http://www.python.org')\n",
      "------------------------------\n",
      "function in the pprint module. This will alphabetize the keys and output a dictionary\n",
      "in a more sane way. Here is an example that illustrates how you would pretty print the\n",
      "results of a search on Twitter:\n",
      ">>> from urllib.request import urlopen\n",
      ">>> import json\n",
      ">>> u = urlopen('http://search.twitter.com/search.json?q=python&rpp=5')\n",
      "------------------------------\n",
      ">>> from pprint import pprint\n",
      ">>> pprint(resp)\n",
      "{'completed_in': 0.074,\n",
      " 'max_id': 264043230692245504,\n",
      " 'max_id_str': '264043230692245504',\n",
      " 'next_page': '?page=2&max_id=264043230692245504&q=python&rpp=5',\n",
      "------------------------------\n",
      "{'completed_in': 0.074,\n",
      " 'max_id': 264043230692245504,\n",
      " 'max_id_str': '264043230692245504',\n",
      " 'next_page': '?page=2&max_id=264043230692245504&q=python&rpp=5',\n",
      " 'page': 1,\n",
      " 'query': 'python',\n",
      "------------------------------\n",
      " 'max_id': 264043230692245504,\n",
      " 'max_id_str': '264043230692245504',\n",
      " 'next_page': '?page=2&max_id=264043230692245504&q=python&rpp=5',\n",
      " 'page': 1,\n",
      " 'query': 'python',\n",
      " 'refresh_url': '?since_id=264043230692245504&q=python',\n",
      "------------------------------\n",
      "...\n",
      ">>> p = Point(2, 3)\n",
      ">>> json.dumps(p)\n",
      "Traceback (most recent call last):\n",
      " File \"<stdin>\", line 1, in <module>\n",
      " File \"/usr/local/lib/python3.3/json/__init__.py\", line 226, in dumps\n",
      "------------------------------\n",
      ">>> json.dumps(p)\n",
      "Traceback (most recent call last):\n",
      " File \"<stdin>\", line 1, in <module>\n",
      " File \"/usr/local/lib/python3.3/json/__init__.py\", line 226, in dumps\n",
      " return _default_encoder.encode(obj)\n",
      " File \"/usr/local/lib/python3.3/json/encoder.py\", line 187, in encode\n",
      "------------------------------\n",
      " File \"<stdin>\", line 1, in <module>\n",
      " File \"/usr/local/lib/python3.3/json/__init__.py\", line 226, in dumps\n",
      " return _default_encoder.encode(obj)\n",
      " File \"/usr/local/lib/python3.3/json/encoder.py\", line 187, in encode\n",
      " chunks = self.iterencode(o, _one_shot=True)\n",
      " File \"/usr/local/lib/python3.3/json/encoder.py\", line 245, in iterencode\n",
      "------------------------------\n",
      " return _default_encoder.encode(obj)\n",
      " File \"/usr/local/lib/python3.3/json/encoder.py\", line 187, in encode\n",
      " chunks = self.iterencode(o, _one_shot=True)\n",
      " File \"/usr/local/lib/python3.3/json/encoder.py\", line 245, in iterencode\n",
      " return _iterencode(o, 0)\n",
      " File \"/usr/local/lib/python3.3/json/encoder.py\", line 169, in default\n",
      "------------------------------\n",
      "documents. To illustrate, suppose you want to parse and make a summary of the RSS\n",
      "feed on Planet Python. Here is a script that will do it:\n",
      "from urllib.request import urlopen\n",
      "from xml.etree.ElementTree import parse\n",
      "# Download the RSS feed and parse it\n",
      "u = urlopen('http://planet.python.org/rss20.xml')\n",
      "------------------------------\n",
      "6.3. Parsing Simple XML Data | 183\n",
      "www.it-ebooks.info\n",
      "If you run the preceding script, the output looks similar to the following:\n",
      " Steve Holden: Python for Data Analysis\n",
      " Mon, 19 Nov 2012 02:13:51 +0000\n",
      " http://holdenweb.blogspot.com/2012/11/python-for-data-analysis.html\n",
      "------------------------------\n",
      " Steve Holden: Python for Data Analysis\n",
      " Mon, 19 Nov 2012 02:13:51 +0000\n",
      " http://holdenweb.blogspot.com/2012/11/python-for-data-analysis.html\n",
      " Vasudev Ram: The Python Data model (for v2 and v3)\n",
      " Sun, 18 Nov 2012 22:06:47 +0000\n",
      " http://jugad2.blogspot.com/2012/11/the-python-data-model.html\n",
      "------------------------------\n",
      " Vasudev Ram: The Python Data model (for v2 and v3)\n",
      " Sun, 18 Nov 2012 22:06:47 +0000\n",
      " http://jugad2.blogspot.com/2012/11/the-python-data-model.html\n",
      " Python Diary: Been playing around with Object Databases\n",
      " Sun, 18 Nov 2012 20:40:29 +0000\n",
      " http://www.pythondiary.com/blog/Nov.18,2012/been-...-object-databases.html\n",
      "------------------------------\n",
      " Python Diary: Been playing around with Object Databases\n",
      " Sun, 18 Nov 2012 20:40:29 +0000\n",
      " http://www.pythondiary.com/blog/Nov.18,2012/been-...-object-databases.html\n",
      " Vasudev Ram: Wakari, Scientific Python in the cloud\n",
      " Sun, 18 Nov 2012 20:19:41 +0000\n",
      " http://jugad2.blogspot.com/2012/11/wakari-scientific-python-in-cloud.html\n",
      "------------------------------\n",
      "similar to the following:\n",
      " <?xml version=\"1.0\"?>\n",
      " <rss version=\"2.0\" xmlns:dc=\"http://purl.org/dc/elements/1.1/\">\n",
      " <channel>\n",
      " <title>Planet Python</title>\n",
      " <link>http://planet.python.org/</link>\n",
      "------------------------------\n",
      " <rss version=\"2.0\" xmlns:dc=\"http://purl.org/dc/elements/1.1/\">\n",
      " <channel>\n",
      " <title>Planet Python</title>\n",
      " <link>http://planet.python.org/</link>\n",
      " <language>en</language>\n",
      " <description>Planet Python - http://planet.python.org/</description>\n",
      "------------------------------\n",
      " <description>...</description>\n",
      " <pubDate>Sun, 18 Nov 2012 22:06:47 +0000</pubDate>\n",
      " </item>\n",
      " <item>\n",
      " <title>Python Diary: Been playing around with Object Databases</title>\n",
      " <guid>http://www.pythondiary.com/...-object-databases.html</guid>\n",
      "------------------------------\n",
      " <pubDate>Sun, 18 Nov 2012 22:06:47 +0000</pubDate>\n",
      " </item>\n",
      " <item>\n",
      " <title>Python Diary: Been playing around with Object Databases</title>\n",
      " <guid>http://www.pythondiary.com/...-object-databases.html</guid>\n",
      " <link>http://www.pythondiary.com/...-object-databases.html</link>\n",
      "------------------------------\n",
      "The key feature of this class is that it represents a network connection, but it doesn’t\n",
      "actually do anything initially (e.g., it doesn’t establish a connection). Instead, the con‐\n",
      "nection is established and closed using the with statement (essentially on demand). For\n",
      "example:\n",
      "from functools import partial\n",
      "conn = LazyConnection(('www.python.org', 80))\n",
      "------------------------------\n",
      "conn = LazyConnection(('www.python.org', 80))\n",
      "# Connection closed\n",
      "with conn as s:\n",
      " # conn.__enter__() executes: connection open\n",
      " s.send(b'GET /index.html HTTP/1.0\\r\\n')\n",
      " s.send(b'Host: www.python.org\\r\\n')\n",
      "------------------------------\n",
      " return sock\n",
      " def __exit__(self, exc_ty, exc_val, tb):\n",
      " self.connections.pop().close()\n",
      "# Example use\n",
      "from functools import partial\n",
      "conn = LazyConnection(('www.python.org', 80))\n",
      "------------------------------\n",
      "Decorator 2\n",
      "5\n",
      ">>> add.__wrapped__(2, 3)\n",
      "5\n",
      ">>>\n",
      "However, this behavior has been reported as a bug (see http://bugs.python.org/\n",
      "------------------------------\n",
      "x 1\n",
      "y 2\n",
      ">>> func(1, 2, 3, 4)\n",
      "Traceback (most recent call last):\n",
      "...\n",
      " File \"/usr/local/lib/python3.3/inspect.py\", line 1972, in _bind\n",
      "------------------------------\n",
      " raise TypeError('too many positional arguments')\n",
      "TypeError: too many positional arguments\n",
      ">>> func(y=2)\n",
      "Traceback (most recent call last):\n",
      "...\n",
      " File \"/usr/local/lib/python3.3/inspect.py\", line 1961, in _bind\n",
      "------------------------------\n",
      " raise TypeError(msg) from None\n",
      "TypeError: 'x' parameter lacking default value\n",
      ">>> func(1, y=2, x=3)\n",
      "Traceback (most recent call last):\n",
      "...\n",
      " File \"/usr/local/lib/python3.3/inspect.py\", line 1985, in _bind\n",
      "------------------------------\n",
      "rectory cause an error.\n",
      "Finally, it should be noted that relative imports only work for modules that are located\n",
      "inside a proper package. In particular, they do not work inside simple modules located\n",
      "at the top level of scripts. They also won’t work if parts of a package are executed directly\n",
      "as a script. For example:\n",
      "% python3 mypackage/A/spam.py # Relative imports fail\n",
      "------------------------------\n",
      "at the top level of scripts. They also won’t work if parts of a package are executed directly\n",
      "as a script. For example:\n",
      "% python3 mypackage/A/spam.py # Relative imports fail\n",
      "On the other hand, if you execute the preceding script using the -m option to Python,\n",
      "the relative imports will work properly. For example:\n",
      "% python3 -m mypackage.A.spam # Relative imports work\n",
      "------------------------------\n",
      " __main__.py\n",
      "10.7. Making a Directory or Zip File Runnable As a Main Script | 407\n",
      "www.it-ebooks.info\n",
      "If __main__.py is present, you can simply run the Python interpreter on the top-level\n",
      "directory like this:\n",
      "bash % python3 myapplication\n",
      "------------------------------\n",
      "The interpreter will execute the __main__.py file as the main program.\n",
      "This technique also works if you package all of your code up into a zip file. For example:\n",
      " bash % ls\n",
      " spam.py bar.py grok.py __main__.py\n",
      " bash % zip -r myapp.zip *.py\n",
      " bash % python3 myapp.zip\n",
      "------------------------------\n",
      "code isn’t meant to be used as a standard library module that’s installed into the Python\n",
      "library. Instead, it’s just this bundle of code that you want to hand someone to execute.\n",
      "Since directories and zip files are a little different than normal files, you may also want\n",
      "to add a supporting shell script to make execution easier. For example, if the code was\n",
      "in a file named myapp.zip, you could make a top-level script like this:\n",
      " #!/usr/bin/env python3 /usr/local/bin/myapp.zip\n",
      "------------------------------\n",
      "in sys.path. You would like to add new directories to Python’s path, but don’t want to\n",
      "hardwire it into your code.\n",
      "Solution\n",
      "There are two common ways to get new directories added to sys.path. First, you can\n",
      "add them through the use of the PYTHONPATH environment variable. For example:\n",
      " bash % env PYTHONPATH=/some/dir:/other/dir python3\n",
      "------------------------------\n",
      "The second approach is to create a .pth file that lists the directories like this:\n",
      " # myapplication.pth\n",
      " /some/dir\n",
      " /other/dir\n",
      "This .pth file needs to be placed into one of Python’s site-packages directories, which are\n",
      "typically located at /usr/local/lib/python3.3/site-packages or ~/.local/lib/python3.3/sitepackages.\n",
      "------------------------------\n",
      ">>> import importlib\n",
      ">>> math = importlib.import_module('math')\n",
      ">>> math.sin(2)\n",
      "0.9092974268256817\n",
      ">>> mod = importlib.import_module('urllib.request')\n",
      ">>> u = mod.urlopen('http://www.python.org')\n",
      "------------------------------\n",
      "print(\"I'm grok.blah\")\n",
      "The goal here is to allow remote access to these files as modules. Perhaps the easiest way\n",
      "to do this is to publish them on a web server. Simply go to the testcode directory and\n",
      "run Python like this:\n",
      "bash % cd testcode\n",
      "bash % python3 -m http.server 15000\n",
      "------------------------------\n",
      "The main reason for doing this is that if a module with the given name already exists,\n",
      "you’ll get the already created module instead. For example:\n",
      ">>> import math\n",
      ">>> m = sys.modules.setdefault('math', imp.new_module('math'))\n",
      ">>> m\n",
      "<module 'math' from '/usr/local/lib/python3.3/lib-dynload/math.so'>\n",
      "------------------------------\n",
      "it is a list of the directories that are found in the package’s __path__ attribute. These are\n",
      "the paths that need to be checked to find package subcomponents. For example, notice\n",
      "the path setting for xml.etree and xml.etree.ElementTree:\n",
      ">>> import xml.etree.ElementTree\n",
      "Looking for xml None\n",
      "Looking for xml.etree ['/usr/local/lib/python3.3/xml']\n",
      "------------------------------\n",
      "the paths that need to be checked to find package subcomponents. For example, notice\n",
      "the path setting for xml.etree and xml.etree.ElementTree:\n",
      ">>> import xml.etree.ElementTree\n",
      "Looking for xml None\n",
      "Looking for xml.etree ['/usr/local/lib/python3.3/xml']\n",
      "Looking for xml.etree.ElementTree ['/usr/local/lib/python3.3/xml/etree']\n",
      "------------------------------\n",
      "Looking for xml.etree.ElementTree ['/usr/local/lib/python3.3/xml/etree']\n",
      "Looking for warnings None\n",
      "422 | Chapter 10: Modules and Packages\n",
      "www.it-ebooks.info\n",
      "Looking for contextlib None\n",
      "Looking for xml.etree.ElementPath ['/usr/local/lib/python3.3/xml/etree']\n",
      "------------------------------\n",
      "Looking for fib None\n",
      "Traceback (most recent call last):\n",
      " File \"<stdin>\", line 1, in <module>\n",
      "ImportError: No module named 'fib'\n",
      ">>> import xml.superfast\n",
      "Looking for xml.superfast ['/usr/local/lib/python3.3/xml']\n",
      "------------------------------\n",
      "www.it-ebooks.info\n",
      ">>> from pprint import pprint\n",
      ">>> import sys\n",
      ">>> pprint(sys.path)\n",
      "['',\n",
      " '/usr/local/lib/python33.zip',\n",
      "------------------------------\n",
      ">>> from pprint import pprint\n",
      ">>> import sys\n",
      ">>> pprint(sys.path)\n",
      "['',\n",
      " '/usr/local/lib/python33.zip',\n",
      " '/usr/local/lib/python3.3',\n",
      "------------------------------\n",
      ">>> import sys\n",
      ">>> pprint(sys.path)\n",
      "['',\n",
      " '/usr/local/lib/python33.zip',\n",
      " '/usr/local/lib/python3.3',\n",
      " '/usr/local/lib/python3.3/plat-darwin',\n",
      "------------------------------\n",
      ">>> pprint(sys.path)\n",
      "['',\n",
      " '/usr/local/lib/python33.zip',\n",
      " '/usr/local/lib/python3.3',\n",
      " '/usr/local/lib/python3.3/plat-darwin',\n",
      " '/usr/local/lib/python3.3/lib-dynload',\n",
      "------------------------------\n",
      ">>>\n",
      "Each entry in sys.path is additionally attached to a finder object. You can view these\n",
      "finders by looking at sys.path_importer_cache:\n",
      ">>> pprint(sys.path_importer_cache)\n",
      "{'.': FileFinder('.'),\n",
      " '/usr/local/lib/python3.3': FileFinder('/usr/local/lib/python3.3'),\n",
      "------------------------------\n",
      "Each entry in sys.path is additionally attached to a finder object. You can view these\n",
      "finders by looking at sys.path_importer_cache:\n",
      ">>> pprint(sys.path_importer_cache)\n",
      "{'.': FileFinder('.'),\n",
      " '/usr/local/lib/python3.3': FileFinder('/usr/local/lib/python3.3'),\n",
      " '/usr/local/lib/python3.3/': FileFinder('/usr/local/lib/python3.3/'),\n",
      "------------------------------\n",
      "finders by looking at sys.path_importer_cache:\n",
      ">>> pprint(sys.path_importer_cache)\n",
      "{'.': FileFinder('.'),\n",
      " '/usr/local/lib/python3.3': FileFinder('/usr/local/lib/python3.3'),\n",
      " '/usr/local/lib/python3.3/': FileFinder('/usr/local/lib/python3.3/'),\n",
      " '/usr/local/lib/python3.3/collections': FileFinder('...python3.3/collections'),\n",
      "------------------------------\n",
      ">>> pprint(sys.path_importer_cache)\n",
      "{'.': FileFinder('.'),\n",
      " '/usr/local/lib/python3.3': FileFinder('/usr/local/lib/python3.3'),\n",
      " '/usr/local/lib/python3.3/': FileFinder('/usr/local/lib/python3.3/'),\n",
      " '/usr/local/lib/python3.3/collections': FileFinder('...python3.3/collections'),\n",
      " '/usr/local/lib/python3.3/encodings': FileFinder('...python3.3/encodings'),\n",
      "------------------------------\n",
      "{'.': FileFinder('.'),\n",
      " '/usr/local/lib/python3.3': FileFinder('/usr/local/lib/python3.3'),\n",
      " '/usr/local/lib/python3.3/': FileFinder('/usr/local/lib/python3.3/'),\n",
      " '/usr/local/lib/python3.3/collections': FileFinder('...python3.3/collections'),\n",
      " '/usr/local/lib/python3.3/encodings': FileFinder('...python3.3/encodings'),\n",
      " '/usr/local/lib/python3.3/lib-dynload': FileFinder('...python3.3/lib-dynload'),\n",
      "------------------------------\n",
      " '/usr/local/lib/python3.3': FileFinder('/usr/local/lib/python3.3'),\n",
      " '/usr/local/lib/python3.3/': FileFinder('/usr/local/lib/python3.3/'),\n",
      " '/usr/local/lib/python3.3/collections': FileFinder('...python3.3/collections'),\n",
      " '/usr/local/lib/python3.3/encodings': FileFinder('...python3.3/encodings'),\n",
      " '/usr/local/lib/python3.3/lib-dynload': FileFinder('...python3.3/lib-dynload'),\n",
      " '/usr/local/lib/python3.3/plat-darwin': FileFinder('...python3.3/plat-darwin'),\n",
      "------------------------------\n",
      " '/usr/local/lib/python3.3/': FileFinder('/usr/local/lib/python3.3/'),\n",
      " '/usr/local/lib/python3.3/collections': FileFinder('...python3.3/collections'),\n",
      " '/usr/local/lib/python3.3/encodings': FileFinder('...python3.3/encodings'),\n",
      " '/usr/local/lib/python3.3/lib-dynload': FileFinder('...python3.3/lib-dynload'),\n",
      " '/usr/local/lib/python3.3/plat-darwin': FileFinder('...python3.3/plat-darwin'),\n",
      " '/usr/local/lib/python3.3/site-packages': FileFinder('...python3.3/site-packages'),\n",
      "------------------------------\n",
      " '/usr/local/lib/python3.3/collections': FileFinder('...python3.3/collections'),\n",
      " '/usr/local/lib/python3.3/encodings': FileFinder('...python3.3/encodings'),\n",
      " '/usr/local/lib/python3.3/lib-dynload': FileFinder('...python3.3/lib-dynload'),\n",
      " '/usr/local/lib/python3.3/plat-darwin': FileFinder('...python3.3/plat-darwin'),\n",
      " '/usr/local/lib/python3.3/site-packages': FileFinder('...python3.3/site-packages'),\n",
      " '/usr/local/lib/python33.zip': None}\n",
      "------------------------------\n",
      "...\n",
      ">>> sys.path_hooks.insert(0, check_path)\n",
      ">>> import fib\n",
      "Checked debug\n",
      "Checking .\n",
      "Checking /usr/local/lib/python33.zip\n",
      "------------------------------\n",
      ">>> sys.path_hooks.insert(0, check_path)\n",
      ">>> import fib\n",
      "Checked debug\n",
      "Checking .\n",
      "Checking /usr/local/lib/python33.zip\n",
      "Checking /usr/local/lib/python3.3\n",
      "------------------------------\n",
      ">>> import fib\n",
      "Checked debug\n",
      "Checking .\n",
      "Checking /usr/local/lib/python33.zip\n",
      "Checking /usr/local/lib/python3.3\n",
      "Checking /usr/local/lib/python3.3/plat-darwin\n",
      "------------------------------\n",
      "Checked debug\n",
      "Checking .\n",
      "Checking /usr/local/lib/python33.zip\n",
      "Checking /usr/local/lib/python3.3\n",
      "Checking /usr/local/lib/python3.3/plat-darwin\n",
      "Checking /usr/local/lib/python3.3/lib-dynload\n",
      "------------------------------\n",
      "Checking .\n",
      "Checking /usr/local/lib/python33.zip\n",
      "Checking /usr/local/lib/python3.3\n",
      "Checking /usr/local/lib/python3.3/plat-darwin\n",
      "Checking /usr/local/lib/python3.3/lib-dynload\n",
      "Checking /Users/beazley/.local/lib/python3.3/site-packages\n",
      "------------------------------\n",
      "Checking /usr/local/lib/python33.zip\n",
      "Checking /usr/local/lib/python3.3\n",
      "Checking /usr/local/lib/python3.3/plat-darwin\n",
      "Checking /usr/local/lib/python3.3/lib-dynload\n",
      "Checking /Users/beazley/.local/lib/python3.3/site-packages\n",
      "Checking /usr/local/lib/python3.3/site-packages\n",
      "------------------------------\n",
      "There is a recursive element to package handling that is not immediately obvious in the\n",
      "solution, but also at work. All packages contain an internal path setting, which can be\n",
      "found in __path__ attribute. For example:\n",
      ">>> import xml.etree.ElementTree\n",
      ">>> xml.__path__\n",
      "['/usr/local/lib/python3.3/xml']\n",
      "------------------------------\n",
      "found in __path__ attribute. For example:\n",
      ">>> import xml.etree.ElementTree\n",
      ">>> xml.__path__\n",
      "['/usr/local/lib/python3.3/xml']\n",
      ">>> xml.etree.__path__\n",
      "['/usr/local/lib/python3.3/xml/etree']\n",
      "------------------------------\n",
      ">>> logging.basicConfig(level=logging.DEBUG)\n",
      ">>> import urlimport\n",
      ">>> urlimport.install_path_hook()\n",
      "DEBUG:urlimport:Installing handle_url\n",
      ">>> import fib\n",
      "DEBUG:urlimport:Handle path? /usr/local/lib/python33.zip. [No]\n",
      "------------------------------\n",
      "You want to install a third-party package, but you don’t have permission to install pack‐\n",
      "ages into the system Python. Alternatively, perhaps you just want to install a package\n",
      "for your own use, not all users on the system.\n",
      "Solution\n",
      "Python has a per-user installation directory that’s typically located in a directory such\n",
      "as ~/.local/lib/python3.3/site-packages. To force packages to install in this directory, give\n",
      "------------------------------\n",
      "for your own use, not all users on the system.\n",
      "Solution\n",
      "Python has a per-user installation directory that’s typically located in a directory such\n",
      "as ~/.local/lib/python3.3/site-packages. To force packages to install in this directory, give\n",
      "the --user option to the installation command. For example:\n",
      " python3 setup.py install --user\n",
      "------------------------------\n",
      "pending on the behavior of third-party package managers, such as distribute or pip).\n",
      "10.13. Installing Packages Just for Yourself | 431\n",
      "www.it-ebooks.info\n",
      "Discussion\n",
      "Normally, packages get installed into the system-wide site-packages directory, which is\n",
      "found in a location such as /usr/local/lib/python3.3/site-packages. However, doing so\n",
      "------------------------------\n",
      " bash % cd Spam\n",
      " bash % ls\n",
      " bin include lib pyvenv.cfg\n",
      " bash %\n",
      "In the bin directory, you’ll find a Python interpreter that you can use. For example:\n",
      " bash % Spam/bin/python3\n",
      "------------------------------\n",
      " >>> import sys\n",
      " >>> pprint(sys.path)\n",
      " ['',\n",
      "432 | Chapter 10: Modules and Packages\n",
      "www.it-ebooks.info\n",
      " '/usr/local/lib/python33.zip',\n",
      "------------------------------\n",
      " >>> pprint(sys.path)\n",
      " ['',\n",
      "432 | Chapter 10: Modules and Packages\n",
      "www.it-ebooks.info\n",
      " '/usr/local/lib/python33.zip',\n",
      " '/usr/local/lib/python3.3',\n",
      "------------------------------\n",
      " ['',\n",
      "432 | Chapter 10: Modules and Packages\n",
      "www.it-ebooks.info\n",
      " '/usr/local/lib/python33.zip',\n",
      " '/usr/local/lib/python3.3',\n",
      " '/usr/local/lib/python3.3/plat-darwin',\n",
      "------------------------------\n",
      "432 | Chapter 10: Modules and Packages\n",
      "www.it-ebooks.info\n",
      " '/usr/local/lib/python33.zip',\n",
      " '/usr/local/lib/python3.3',\n",
      " '/usr/local/lib/python3.3/plat-darwin',\n",
      " '/usr/local/lib/python3.3/lib-dynload',\n",
      "------------------------------\n",
      "www.it-ebooks.info\n",
      " '/usr/local/lib/python33.zip',\n",
      " '/usr/local/lib/python3.3',\n",
      " '/usr/local/lib/python3.3/plat-darwin',\n",
      " '/usr/local/lib/python3.3/lib-dynload',\n",
      " '/Users/beazley/Spam/lib/python3.3/site-packages']\n",
      "------------------------------\n",
      " recursive-include examples *\n",
      " recursive-include Doc *\n",
      "Make sure the setup.py and MANIFEST.in files appear in the top-level directory of your\n",
      "package. Once you have done this, you should be able to make a source distribution by\n",
      "typing a command such as this:\n",
      "% bash python3 setup.py sdist\n",
      "------------------------------\n",
      "On the other hand, if you access resp.json, then you get the response content inter‐\n",
      "preted as JSON.\n",
      "Here is an example of using requests to make a HEAD request and extract a few fields\n",
      "of header data from the response:\n",
      "import requests\n",
      "resp = requests.head('http://www.python.org/index.html')\n",
      "------------------------------\n",
      "content_type = resp.headers['content-type']\n",
      "content_length = resp.headers['content-length']\n",
      "Here is a requests example that executes a login into the Python Package index using\n",
      "basic authentication:\n",
      "import requests\n",
      "resp = requests.get('http://pypi.python.org/pypi?:action=login',\n",
      "------------------------------\n",
      "For example, if you decided to stick entirely with the standard library instead of a library\n",
      "like requests, you might have to implement your code using the low-level http.cli\n",
      "ent module instead. For example, this code shows how to execute a HEAD request:\n",
      "from http.client import HTTPConnection\n",
      "from urllib import parse\n",
      "c = HTTPConnection('www.python.org', 80)\n",
      "------------------------------\n",
      "Similarly, if you have to write code involving proxies, authentication, cookies, and other\n",
      "details, using urllib is awkward and verbose. For example, here is a sample of code that\n",
      "authenticates to the Python package index:\n",
      "import urllib.request\n",
      "auth = urllib.request.HTTPBasicAuthHandler()\n",
      "auth.add_password('pypi','http://pypi.python.org','username','password')\n",
      "------------------------------\n",
      "authenticates to the Python package index:\n",
      "import urllib.request\n",
      "auth = urllib.request.HTTPBasicAuthHandler()\n",
      "auth.add_password('pypi','http://pypi.python.org','username','password')\n",
      "opener = urllib.request.build_opener(auth)\n",
      "r = urllib.request.Request('http://pypi.python.org/pypi?:action=login')\n",
      "------------------------------\n",
      "www.it-ebooks.info\n",
      "using send_handle(). The worker takes over the socket and echoes data back to the\n",
      "client until the connection is closed.\n",
      "If you connect to the running server using Telnet or a similar tool, here is an example\n",
      "of what you might see:\n",
      " bash % python3 passfd.py\n",
      "------------------------------\n",
      " import sys\n",
      " if len(sys.argv) != 3:\n",
      " print('Usage: server.py server_address port', file=sys.stderr)\n",
      " raise SystemExit(1)\n",
      " server(sys.argv[1], int(sys.argv[2]))\n",
      "To run this server, you would run a command such as python3 servermp.py /tmp/\n",
      "------------------------------\n",
      " import sys\n",
      " if len(sys.argv) != 2:\n",
      " print('Usage: worker.py server_address', file=sys.stderr)\n",
      " raise SystemExit(1)\n",
      " worker(sys.argv[1])\n",
      "To run the worker, you would type python3 workermp.py /tmp/servconn. The result‐\n",
      "------------------------------\n",
      "t2.start()\n",
      "If you run this version of the program, one of the threads will crash with an exception\n",
      "such as this:\n",
      "Exception in thread Thread-1:\n",
      "Traceback (most recent call last):\n",
      " File \"/usr/local/lib/python3.3/threading.py\", line 639, in _bootstrap_inner\n",
      "------------------------------\n",
      "such as this:\n",
      "Exception in thread Thread-1:\n",
      "Traceback (most recent call last):\n",
      " File \"/usr/local/lib/python3.3/threading.py\", line 639, in _bootstrap_inner\n",
      " self.run()\n",
      " File \"/usr/local/lib/python3.3/threading.py\", line 596, in run\n",
      "------------------------------\n",
      " self.run()\n",
      " File \"/usr/local/lib/python3.3/threading.py\", line 596, in run\n",
      " self._target(*self._args, **self._kwargs)\n",
      " File \"deadlock.py\", line 49, in thread_1\n",
      " with acquire(y_lock):\n",
      " File \"/usr/local/lib/python3.3/contextlib.py\", line 48, in __enter__\n",
      "------------------------------\n",
      "of LazyConnection in multiple threads. For example:\n",
      "from functools import partial\n",
      "def test(conn):\n",
      " with conn as s:\n",
      " s.send(b'GET /index.html HTTP/1.0\\r\\n')\n",
      " s.send(b'Host: www.python.org\\r\\n')\n",
      "------------------------------\n",
      "www.it-ebooks.info\n",
      " s.send(b'\\r\\n')\n",
      " resp = b''.join(iter(partial(s.recv, 8192), b''))\n",
      " print('Got {} bytes'.format(len(resp)))\n",
      "if __name__ == '__main__':\n",
      " conn = LazyConnection(('www.python.org', 80))\n",
      "------------------------------\n",
      " u = urllib.request.urlopen(url)\n",
      " data = u.read()\n",
      " return data\n",
      "pool = ThreadPoolExecutor(10)\n",
      "# Submit work to the pool\n",
      "a = pool.submit(fetch_url, 'http://www.python.org')\n",
      "------------------------------\n",
      "Unix-like systems.\n",
      "Solution\n",
      "Creating a proper daemon process requires a precise sequence of system calls and careful\n",
      "attention to detail. The following code shows how to define a daemon process along\n",
      "with the ability to easily stop it once launched:\n",
      "#!/usr/bin/env python3\n",
      "------------------------------\n",
      "redirecting a file into the script, or just passing a filename, or list of filenames, to the\n",
      "script on the command line.\n",
      "Solution\n",
      "Python’s built-in fileinput module makes this very simple and concise. If you have a\n",
      "script that looks like this:\n",
      "#!/usr/bin/env python3\n",
      "------------------------------\n",
      "print(args.patterns)\n",
      "print(args.verbose)\n",
      "print(args.outfile)\n",
      "print(args.speed)\n",
      "This program defines a command-line parser with the following usage:\n",
      "bash % python3 search.py -h\n",
      "------------------------------\n",
      " -v verbose mode\n",
      " -o OUTFILE output file\n",
      " --speed {slow,fast} search speed\n",
      "The following session shows how data shows up in the program. Carefully observe the\n",
      "output of the print() statements.\n",
      "bash % python3 search.py foo.txt bar.txt\n",
      "------------------------------\n",
      "output of the print() statements.\n",
      "bash % python3 search.py foo.txt bar.txt\n",
      "usage: search.py [-h] -p pattern [-v] [-o OUTFILE] [--speed {fast,slow}]\n",
      " [filename [filename ...]]\n",
      "search.py: error: the following arguments are required: -p/--pat\n",
      "bash % python3 search.py -v -p spam --pat=eggs foo.txt bar.txt\n",
      "------------------------------\n",
      "filenames = ['foo.txt', 'bar.txt']\n",
      "patterns = ['spam', 'eggs']\n",
      "verbose = True\n",
      "outfile = None\n",
      "speed = slow\n",
      "bash % python3 search.py -v -p spam --pat=eggs foo.txt bar.txt -o results\n",
      "------------------------------\n",
      "filenames = ['foo.txt', 'bar.txt']\n",
      "patterns = ['spam', 'eggs']\n",
      "verbose = True\n",
      "outfile = results\n",
      "speed = slow\n",
      "bash % python3 search.py -v -p spam --pat=eggs foo.txt bar.txt -o results \\\n",
      "------------------------------\n",
      "sh, bash, etc.). Instead, the list of strings supplied are given to a low-level system com‐\n",
      "mand, such as os.execve(). If you want the command to be interpreted by a shell,\n",
      "supply it using a simple string and give the shell=True argument. This is sometimes\n",
      "useful if you’re trying to get Python to execute a complicated shell command involving\n",
      "pipes, I/O redirection, and other features. For example:\n",
      "out_bytes = subprocess.check_output('grep python | wc > out', shell=True)\n",
      "------------------------------\n",
      "script, or you want to provide specialized behavior not easily available by “shelling out.”\n",
      "Solution\n",
      "To search for files, use the os.walk() function, supplying it with the top-level directory.\n",
      "Here is an example of a function that finds a specific filename and prints out the full\n",
      "path of all matches:\n",
      "#!/usr/bin/env python3.3\n",
      "------------------------------\n",
      "Although this script is pretty simple compared to the features of the find utility found\n",
      "on UNIX platforms, it has the benefit of being cross-platform. Furthermore, a lot of\n",
      "additional functionality can be added in a portable manner without much more work.\n",
      "To illustrate, here is a function that prints out all of the files that have a recent modifi‐\n",
      "cation time:\n",
      "#!/usr/bin/env python3.3\n",
      "------------------------------\n",
      " logging.basicConfig(\n",
      " filename='app.log',\n",
      " level=logging.ERROR\n",
      " )\n",
      " # Variables (to make the calls that follow work)\n",
      " hostname = 'www.python.org'\n",
      "------------------------------\n",
      "a filter. All messages issued at a level lower than this setting will be ignored.\n",
      "The argument to each logging operation is a message string followed by zero or more\n",
      "arguments. When making the final log message, the % operator is used to format the\n",
      "message string using the supplied arguments.\n",
      "If you run this program, the contents of the file app.log will be as follows:\n",
      " CRITICAL:root:Host www.python.org unknown\n",
      "------------------------------\n",
      "logging.basicConfig(\n",
      " filename='app.log',\n",
      " level=logging.WARNING,\n",
      " format='%(levelname)s:%(asctime)s:%(message)s')\n",
      "As a result, the output changes to the following:\n",
      " CRITICAL:2012-11-20 12:27:13,595:Host www.python.org unknown\n",
      "------------------------------\n",
      "specify.\n",
      "Solution\n",
      "The webbrowser module can be used to launch a browser in a platform-independent\n",
      "manner. For example:\n",
      ">>> import webbrowser\n",
      ">>> webbrowser.open('http://www.python.org')\n",
      "------------------------------\n",
      "True\n",
      ">>>\n",
      "This opens the requested page using the default browser. If you want a bit more control\n",
      "over how the page gets opened, you can use one of the following functions:\n",
      ">>> # Open the page in a new browser window\n",
      ">>> webbrowser.open_new('http://www.python.org')\n",
      "------------------------------\n",
      ">>> # Open the page in a new browser window\n",
      ">>> webbrowser.open_new('http://www.python.org')\n",
      "True\n",
      ">>>\n",
      ">>> # Open the page in a new browser tab\n",
      ">>> webbrowser.open_new_tab('http://www.python.org')\n",
      "------------------------------\n",
      "These will try to open the page in a new browser window or tab, if possible and supported\n",
      "by the browser.\n",
      "If you want to open a page in a specific browser, you can use the webbrowser.get()\n",
      "function to specify a particular browser. For example:\n",
      ">>> c = webbrowser.get('firefox')\n",
      ">>> c.open('http://www.python.org')\n",
      "------------------------------\n",
      "If you want to open a page in a specific browser, you can use the webbrowser.get()\n",
      "function to specify a particular browser. For example:\n",
      ">>> c = webbrowser.get('firefox')\n",
      ">>> c.open('http://www.python.org')\n",
      "True\n",
      ">>> c.open_new_tab('http://docs.python.org')\n",
      "------------------------------\n",
      " def test_4(self):\n",
      " self.assertEqual(2+2, 5)\n",
      "if __name__ == '__main__':\n",
      " unittest.main()\n",
      "If you run this code on a Mac, you’ll get this output:\n",
      " bash % python3 testsample.py -v\n",
      "------------------------------\n",
      "The handling of warnings depends on how you have executed the interpreter and other\n",
      "configuration. For example, if you run Python with the -W all option, you’ll get output\n",
      "such as the following:\n",
      "14.11. Issuing Warning Messages | 583\n",
      "www.it-ebooks.info\n",
      " bash % python3 -W all example.py\n",
      "------------------------------\n",
      " bash % python3 -W all example.py\n",
      " example.py:5: DeprecationWarning: logfile argument is deprecated\n",
      " warnings.warn('logfile argument is deprecated', DeprecationWarning)\n",
      "Normally, warnings just produce output messages on standard error. If you want to turn\n",
      "warnings into exceptions, use the -W error option:\n",
      " bash % python3 -W error example.py\n",
      "------------------------------\n",
      "www.it-ebooks.info\n",
      "14.12. Debugging Basic Program Crashes\n",
      "Problem\n",
      "Your program is broken and you’d like some simple strategies for debugging it.\n",
      "Solution\n",
      "If your program is crashing with an exception, running your program as python3 -i\n",
      "------------------------------\n",
      "environment. For example, suppose you have this code:\n",
      "# sample.py\n",
      "def func(n):\n",
      " return n + 10\n",
      "func('Hello')\n",
      "Running python3 -i produces the following:\n",
      "------------------------------\n",
      "# sample.py\n",
      "def func(n):\n",
      " return n + 10\n",
      "func('Hello')\n",
      "Running python3 -i produces the following:\n",
      "bash % python3 -i sample.py\n",
      "------------------------------\n",
      "You would like to find out where your program spends its time and make timing\n",
      "measurements.\n",
      "Solution\n",
      "If you simply want to time your whole program, it’s usually easy enough to use something\n",
      "like the Unix time command. For example:\n",
      "bash % time python3 someprogram.py\n",
      "------------------------------\n",
      "bash %\n",
      "On the other extreme, if you want a detailed report showing what your program is doing,\n",
      "you can use the cProfile module:\n",
      "14.13. Profiling and Timing Your Program | 587\n",
      "www.it-ebooks.info\n",
      "bash % python3 -m cProfile someprogram.py\n",
      "------------------------------\n",
      " library_dirs = ['/usr/local/lib'],\n",
      " libraries = ['sample']\n",
      " )\n",
      " ]\n",
      ")\n",
      "Now, to build the resulting library, simply use python3 buildlib.py build_ext --\n",
      "------------------------------\n",
      " )\n",
      " ]\n",
      ")\n",
      "Now, to build the resulting library, simply use python3 buildlib.py build_ext --\n",
      "inplace. For example:\n",
      "bash % python3 setup.py build_ext --inplace\n",
      "------------------------------\n",
      "inplace. For example:\n",
      "bash % python3 setup.py build_ext --inplace\n",
      "running build_ext\n",
      "building 'sample' extension\n",
      "gcc -fno-strict-aliasing -DNDEBUG -g -fwrapv -O3 -Wall -Wstrict-prototypes\n",
      " -I/usr/local/include/python3.3m -c pysample.c\n",
      "------------------------------\n",
      "}\n",
      "To build this last example, you’ll need to compile the C and link against the Python\n",
      "interpreter. Here is a Makefile that shows how you might do it (this is something that\n",
      "might require some amount of fiddling with on your machine):\n",
      "all::\n",
      " cc -g embed.c -I/usr/local/include/python3.3m \\\n",
      "------------------------------\n",
      "To build this last example, you’ll need to compile the C and link against the Python\n",
      "interpreter. Here is a Makefile that shows how you might do it (this is something that\n",
      "might require some amount of fiddling with on your machine):\n",
      "all::\n",
      " cc -g embed.c -I/usr/local/include/python3.3m \\\n",
      " -L/usr/local/lib/python3.3/config-3.3m -lpython3.3m\n",
      "------------------------------\n",
      "typedef struct Point {\n",
      " double x,y;\n",
      "} Point;\n",
      "extern double distance(Point *p1, Point *p2);\n",
      "Once you have written the interface file, Swig is invoked as a command-line tool:\n",
      "bash % swig -python -py3 sample.i\n",
      "------------------------------\n",
      " library_dirs = [],\n",
      " libraries = ['sample']\n",
      " )\n",
      " ]\n",
      ")\n",
      "To compile and test, run python3 on the setup.py file like this:\n",
      "------------------------------\n",
      " libraries = ['sample']\n",
      " )\n",
      " ]\n",
      ")\n",
      "To compile and test, run python3 on the setup.py file like this:\n",
      "bash % python3 setup.py build_ext --inplace\n",
      "------------------------------\n",
      "To compile and test, run python3 on the setup.py file like this:\n",
      "bash % python3 setup.py build_ext --inplace\n",
      "running build_ext\n",
      "building '_sample' extension\n",
      "gcc -fno-strict-aliasing -DNDEBUG -g -fwrapv -O3 -Wall -Wstrict-prototypes\n",
      "-I/usr/local/include/python3.3m -c sample_wrap.c\n",
      "------------------------------\n",
      "Python interpreter to the underlying C code declared in the csample.pxd file:\n",
      "# sample.pyx\n",
      "# Import the low-level C declarations\n",
      "cimport csample\n",
      "# Import some functionality from Python and the C stdlib\n",
      "from cpython.pycapsule cimport *\n",
      "------------------------------\n",
      " name = 'Sample extension module',\n",
      " cmdclass = {'build_ext': build_ext},\n",
      " ext_modules = ext_modules\n",
      ")\n",
      "To build the resulting module for experimentation, type this:\n",
      "bash % python3 setup.py build_ext --inplace\n",
      "------------------------------\n",
      "bash % python3 setup.py build_ext --inplace\n",
      "running build_ext\n",
      "cythoning sample.pyx to sample.c\n",
      "building 'sample' extension\n",
      "gcc -fno-strict-aliasing -DNDEBUG -g -fwrapv -O3 -Wall -Wstrict-prototypes\n",
      " -I/usr/local/include/python3.3m -c sample.c\n",
      "------------------------------\n",
      "Recipe 15.4. However, to do this, the underlying Cython code is a bit more complicated.\n",
      "First, the following imports are being used to bring in definitions of functions from the\n",
      "C library and Python C API:\n",
      "636 | Chapter 15: C Extensions\n",
      "www.it-ebooks.info\n",
      "from cpython.pycapsule cimport *\n",
      "------------------------------\n",
      " elif a[i] > max:\n",
      " out[i] = max\n",
      " else:\n",
      " out[i] = a[i]\n",
      "To compile and build the extension, you’ll need a setup.py file such as the following (use\n",
      "python3 setup.py build_ext --inplace to build it):\n",
      "------------------------------\n",
      "The faulthandler module can be used to help you solve this problem. Include the\n",
      "following code in your program:\n",
      "import faulthandler\n",
      "faulthandler.enable()\n",
      "Alternatively, run Python with the -Xfaulthandler option such as this:\n",
      "bash % python3 -Xfaulthandler program.py\n",
      "------------------------------\n",
      "In this appendix, we provide a few selected links to material that may be particularly\n",
      "useful in the context of Python 3 programming and the recipes contained in this book.\n",
      "This is by no means an exhaustive list of resources, so you should definitely check to\n",
      "see if new titles or more up-to-date editions of these books have been published.\n",
      "Online Resources\n",
      "http://docs.python.org\n",
      "------------------------------\n",
      "http://docs.python.org\n",
      "It goes without saying that Python’s own online documentation is an excellent re‐\n",
      "source if you need to delve into the finer details of the language and modules. Just\n",
      "make sure you’re looking at the documentation for Python 3 and not earlier ver‐\n",
      "sions.\n",
      "http://www.python.org/dev/peps\n",
      "------------------------------\n",
      "ferences, user group meetings, and more. It can be an invaluable resource for learn‐\n",
      "ing about modern Python development. Many of the videos feature Python core\n",
      "developers talking about the new features being added in Python 3.\n",
      "665\n",
      "www.it-ebooks.info\n",
      "http://code.activestate.com/recipes/langs/python\n",
      "------------------------------\n",
      "The ActiveState Python recipes site has long been a resource for finding the solution\n",
      "to thousands of specific programming problems. As of this writing, it contains\n",
      "approximately 300 recipes specific to Python 3. You’ll find that many of its recipes\n",
      "either expand upon topics covered in this book or focus on more narrowly defined\n",
      "tasks. As such, it’s a good companion.\n",
      "http://stackoverflow.com/questions/tagged/python\n",
      "------------------------------\n",
      "• Core Python Applications Programming, 3rd Edition, by Wesley Chun, Prentice Hall\n",
      "(2012).\n",
      "• The Python Standard Library by Example, by Doug Hellmann, Addison-Wesley\n",
      "(2011).\n",
      "• Python 3 Object Oriented Programming, by Dusty Phillips, Packt Publishing (2010).\n",
      "• Porting to Python 3, by Lennart Regebro, CreateSpace (2011), http://python3port\n",
      "------------------------------\n"
     ]
    }
   ],
   "source": [
    "with open('sometxt.txt') as f:\n",
    "    for line, prevlines in searh(f, 'python', 5):\n",
    "        for pline in prevlines:\n",
    "            print(pline, end='')\n",
    "        print(line, end='')\n",
    "        print(\"-\"* 30)"
   ]
  },
  {
   "cell_type": "markdown",
   "metadata": {},
   "source": [
    "### Discussion"
   ]
  },
  {
   "cell_type": "code",
   "execution_count": 51,
   "metadata": {},
   "outputs": [],
   "source": [
    "q = deque(maxlen=3)"
   ]
  },
  {
   "cell_type": "code",
   "execution_count": 52,
   "metadata": {},
   "outputs": [],
   "source": [
    "q.append(1)"
   ]
  },
  {
   "cell_type": "code",
   "execution_count": 53,
   "metadata": {},
   "outputs": [],
   "source": [
    "q.append(2)"
   ]
  },
  {
   "cell_type": "code",
   "execution_count": 54,
   "metadata": {},
   "outputs": [],
   "source": [
    "q.append(3)"
   ]
  },
  {
   "cell_type": "code",
   "execution_count": 55,
   "metadata": {},
   "outputs": [
    {
     "data": {
      "text/plain": [
       "deque([1, 2, 3])"
      ]
     },
     "execution_count": 55,
     "metadata": {},
     "output_type": "execute_result"
    }
   ],
   "source": [
    "q"
   ]
  },
  {
   "cell_type": "code",
   "execution_count": 56,
   "metadata": {},
   "outputs": [],
   "source": [
    "q.append(4)"
   ]
  },
  {
   "cell_type": "code",
   "execution_count": 57,
   "metadata": {},
   "outputs": [
    {
     "data": {
      "text/plain": [
       "deque([2, 3, 4])"
      ]
     },
     "execution_count": 57,
     "metadata": {},
     "output_type": "execute_result"
    }
   ],
   "source": [
    "q"
   ]
  },
  {
   "cell_type": "code",
   "execution_count": 58,
   "metadata": {},
   "outputs": [],
   "source": [
    "q.append(5)"
   ]
  },
  {
   "cell_type": "code",
   "execution_count": 59,
   "metadata": {},
   "outputs": [
    {
     "data": {
      "text/plain": [
       "deque([3, 4, 5])"
      ]
     },
     "execution_count": 59,
     "metadata": {},
     "output_type": "execute_result"
    }
   ],
   "source": [
    "q"
   ]
  },
  {
   "cell_type": "markdown",
   "metadata": {},
   "source": [
    "### 1.4  Finding the Largest or Smallest N or Smallest N Items"
   ]
  },
  {
   "cell_type": "code",
   "execution_count": 60,
   "metadata": {},
   "outputs": [],
   "source": [
    "nums = [1, 8, 2 ,11, -21, 20, 50, -1]"
   ]
  },
  {
   "cell_type": "code",
   "execution_count": 61,
   "metadata": {},
   "outputs": [],
   "source": [
    "import heapq"
   ]
  },
  {
   "cell_type": "code",
   "execution_count": 62,
   "metadata": {},
   "outputs": [
    {
     "data": {
      "text/plain": [
       "[50, 20, 11]"
      ]
     },
     "execution_count": 62,
     "metadata": {},
     "output_type": "execute_result"
    }
   ],
   "source": [
    "heapq.nlargest(3, nums)"
   ]
  },
  {
   "cell_type": "code",
   "execution_count": 63,
   "metadata": {},
   "outputs": [
    {
     "data": {
      "text/plain": [
       "[-21, -1, 1]"
      ]
     },
     "execution_count": 63,
     "metadata": {},
     "output_type": "execute_result"
    }
   ],
   "source": [
    "heapq.nsmallest(3, nums)"
   ]
  },
  {
   "cell_type": "code",
   "execution_count": 64,
   "metadata": {},
   "outputs": [],
   "source": [
    "portfolio = [\n",
    " {'name': 'IBM', 'shares': 100, 'price': 91.1},\n",
    " {'name': 'AAPL', 'shares': 50, 'price': 543.22},\n",
    " {'name': 'FB', 'shares': 200, 'price': 21.09},\n",
    " {'name': 'HPQ', 'shares': 35, 'price': 31.75},\n",
    " {'name': 'YHOO', 'shares': 45, 'price': 16.35},\n",
    " {'name': 'ACME', 'shares': 75, 'price': 115.65}\n",
    "]"
   ]
  },
  {
   "cell_type": "code",
   "execution_count": 65,
   "metadata": {},
   "outputs": [],
   "source": [
    "cheap = heapq.nsmallest(3, portfolio, key=lambda s: s['price'])"
   ]
  },
  {
   "cell_type": "code",
   "execution_count": 66,
   "metadata": {},
   "outputs": [
    {
     "data": {
      "text/plain": [
       "[{'name': 'YHOO', 'shares': 45, 'price': 16.35},\n",
       " {'name': 'FB', 'shares': 200, 'price': 21.09},\n",
       " {'name': 'HPQ', 'shares': 35, 'price': 31.75}]"
      ]
     },
     "execution_count": 66,
     "metadata": {},
     "output_type": "execute_result"
    }
   ],
   "source": [
    "cheap"
   ]
  },
  {
   "cell_type": "code",
   "execution_count": 67,
   "metadata": {},
   "outputs": [],
   "source": [
    "expensive = heapq.nsmallest(3, portfolio, key=lambda s: s['price'])"
   ]
  },
  {
   "cell_type": "code",
   "execution_count": 68,
   "metadata": {},
   "outputs": [
    {
     "data": {
      "text/plain": [
       "[{'name': 'YHOO', 'shares': 45, 'price': 16.35},\n",
       " {'name': 'FB', 'shares': 200, 'price': 21.09},\n",
       " {'name': 'HPQ', 'shares': 35, 'price': 31.75}]"
      ]
     },
     "execution_count": 68,
     "metadata": {},
     "output_type": "execute_result"
    }
   ],
   "source": [
    "expensive\n"
   ]
  },
  {
   "cell_type": "code",
   "execution_count": 69,
   "metadata": {},
   "outputs": [],
   "source": [
    "heapq.heapify(nums)"
   ]
  },
  {
   "cell_type": "code",
   "execution_count": 70,
   "metadata": {},
   "outputs": [
    {
     "data": {
      "text/plain": [
       "[-21, -1, 2, 1, 8, 20, 50, 11]"
      ]
     },
     "execution_count": 70,
     "metadata": {},
     "output_type": "execute_result"
    }
   ],
   "source": [
    "nums"
   ]
  },
  {
   "cell_type": "code",
   "execution_count": 71,
   "metadata": {},
   "outputs": [
    {
     "data": {
      "text/plain": [
       "-21"
      ]
     },
     "execution_count": 71,
     "metadata": {},
     "output_type": "execute_result"
    }
   ],
   "source": [
    "heapq.heappop(nums)"
   ]
  },
  {
   "cell_type": "code",
   "execution_count": 72,
   "metadata": {},
   "outputs": [
    {
     "data": {
      "text/plain": [
       "[-1, 1, 2, 11, 8, 20, 50]"
      ]
     },
     "execution_count": 72,
     "metadata": {},
     "output_type": "execute_result"
    }
   ],
   "source": [
    "nums"
   ]
  },
  {
   "cell_type": "markdown",
   "metadata": {},
   "source": [
    "### 1.5.  Implementing a Priority Queue"
   ]
  },
  {
   "cell_type": "markdown",
   "metadata": {},
   "source": [
    "#### Problem\n",
    "You want to implement a queue that sorts items by a given priority and always returns\n",
    "the item with the higtest priority on each pop operation\n"
   ]
  },
  {
   "cell_type": "code",
   "execution_count": 73,
   "metadata": {},
   "outputs": [],
   "source": [
    "import heapq"
   ]
  },
  {
   "cell_type": "code",
   "execution_count": 74,
   "metadata": {},
   "outputs": [],
   "source": [
    "class PriorityQueue:\n",
    "    def __init__(self):\n",
    "        self._queue = []\n",
    "        self._index = 0\n",
    "    def push(self, item, priority):\n",
    "        heapq.heappush(self._queue, (-priority, self._index, item))\n",
    "        self._index += 1\n",
    "    def pop(self):\n",
    "        return heapq.heappop(self._queue)[-1]"
   ]
  },
  {
   "cell_type": "code",
   "execution_count": 75,
   "metadata": {},
   "outputs": [],
   "source": [
    "class Item:\n",
    "    def __init__(self, name):\n",
    "        self.name = name\n",
    "    def __repr__(self):\n",
    "        return 'Item({!r})'.format(self.name)"
   ]
  },
  {
   "cell_type": "code",
   "execution_count": 76,
   "metadata": {},
   "outputs": [],
   "source": [
    "q = PriorityQueue()"
   ]
  },
  {
   "cell_type": "code",
   "execution_count": 77,
   "metadata": {},
   "outputs": [],
   "source": [
    "q.push(Item('foo'), 1)"
   ]
  },
  {
   "cell_type": "code",
   "execution_count": 78,
   "metadata": {},
   "outputs": [],
   "source": [
    "q.push(Item('bar'), 5)"
   ]
  },
  {
   "cell_type": "code",
   "execution_count": 79,
   "metadata": {},
   "outputs": [],
   "source": [
    "q.push(Item('spam'), 4)"
   ]
  },
  {
   "cell_type": "code",
   "execution_count": 80,
   "metadata": {},
   "outputs": [],
   "source": [
    "q.push(Item('grok'), 1)"
   ]
  },
  {
   "cell_type": "code",
   "execution_count": 81,
   "metadata": {},
   "outputs": [
    {
     "data": {
      "text/plain": [
       "Item('bar')"
      ]
     },
     "execution_count": 81,
     "metadata": {},
     "output_type": "execute_result"
    }
   ],
   "source": [
    "q.pop()"
   ]
  },
  {
   "cell_type": "code",
   "execution_count": 82,
   "metadata": {},
   "outputs": [
    {
     "data": {
      "text/plain": [
       "Item('spam')"
      ]
     },
     "execution_count": 82,
     "metadata": {},
     "output_type": "execute_result"
    }
   ],
   "source": [
    "q.pop()"
   ]
  },
  {
   "cell_type": "code",
   "execution_count": 83,
   "metadata": {},
   "outputs": [
    {
     "data": {
      "text/plain": [
       "Item('foo')"
      ]
     },
     "execution_count": 83,
     "metadata": {},
     "output_type": "execute_result"
    }
   ],
   "source": [
    "q.pop()"
   ]
  },
  {
   "cell_type": "code",
   "execution_count": 84,
   "metadata": {},
   "outputs": [
    {
     "data": {
      "text/plain": [
       "Item('grok')"
      ]
     },
     "execution_count": 84,
     "metadata": {},
     "output_type": "execute_result"
    }
   ],
   "source": [
    "q.pop()"
   ]
  },
  {
   "cell_type": "code",
   "execution_count": 85,
   "metadata": {},
   "outputs": [],
   "source": [
    "from collections import OrderedDict"
   ]
  },
  {
   "cell_type": "code",
   "execution_count": 86,
   "metadata": {},
   "outputs": [],
   "source": [
    "d = OrderedDict()\n",
    "d['foo'] = 1\n",
    "d['bar'] = 2\n",
    "d['spam'] = 3\n",
    "d['grok'] = 4"
   ]
  },
  {
   "cell_type": "code",
   "execution_count": 87,
   "metadata": {
    "scrolled": true
   },
   "outputs": [
    {
     "data": {
      "text/plain": [
       "OrderedDict([('foo', 1), ('bar', 2), ('spam', 3), ('grok', 4)])"
      ]
     },
     "execution_count": 87,
     "metadata": {},
     "output_type": "execute_result"
    }
   ],
   "source": [
    "d"
   ]
  },
  {
   "cell_type": "code",
   "execution_count": 88,
   "metadata": {},
   "outputs": [
    {
     "name": "stdout",
     "output_type": "stream",
     "text": [
      "foo 1\n",
      "bar 2\n",
      "spam 3\n",
      "grok 4\n"
     ]
    }
   ],
   "source": [
    "for key in d:\n",
    "    print(key, d[key])"
   ]
  },
  {
   "cell_type": "code",
   "execution_count": 89,
   "metadata": {},
   "outputs": [
    {
     "data": {
      "text/plain": [
       "'{\"foo\": 1, \"bar\": 2, \"spam\": 3, \"grok\": 4}'"
      ]
     },
     "execution_count": 89,
     "metadata": {},
     "output_type": "execute_result"
    }
   ],
   "source": [
    "import json\n",
    "json.dumps(d)"
   ]
  },
  {
   "cell_type": "code",
   "execution_count": 90,
   "metadata": {},
   "outputs": [],
   "source": [
    "prices = {\n",
    " 'ACME': 45.23,\n",
    " 'AAPL': 612.78,\n",
    " 'IBM': 205.55,\n",
    " 'HPQ': 37.20,\n",
    " 'FB': 10.75\n",
    "}"
   ]
  },
  {
   "cell_type": "code",
   "execution_count": 91,
   "metadata": {},
   "outputs": [],
   "source": [
    "min_price = min(zip(prices.values(), prices.keys()))"
   ]
  },
  {
   "cell_type": "code",
   "execution_count": 92,
   "metadata": {},
   "outputs": [
    {
     "data": {
      "text/plain": [
       "(10.75, 'FB')"
      ]
     },
     "execution_count": 92,
     "metadata": {},
     "output_type": "execute_result"
    }
   ],
   "source": [
    "min_price"
   ]
  },
  {
   "cell_type": "code",
   "execution_count": 93,
   "metadata": {},
   "outputs": [],
   "source": [
    "prices_sorted = sorted(zip(prices.values(), prices.keys()))"
   ]
  },
  {
   "cell_type": "code",
   "execution_count": 94,
   "metadata": {},
   "outputs": [
    {
     "data": {
      "text/plain": [
       "[(10.75, 'FB'),\n",
       " (37.2, 'HPQ'),\n",
       " (45.23, 'ACME'),\n",
       " (205.55, 'IBM'),\n",
       " (612.78, 'AAPL')]"
      ]
     },
     "execution_count": 94,
     "metadata": {},
     "output_type": "execute_result"
    }
   ],
   "source": [
    "prices_sorted"
   ]
  },
  {
   "cell_type": "code",
   "execution_count": 95,
   "metadata": {},
   "outputs": [
    {
     "name": "stdout",
     "output_type": "stream",
     "text": [
      "(10.75, 'FB')\n"
     ]
    }
   ],
   "source": [
    "prices_and_names = zip(prices.values(), prices.keys())\n",
    "print(min(prices_and_names))\n",
    "# print(max(prices_and_names))  # error"
   ]
  },
  {
   "cell_type": "code",
   "execution_count": 96,
   "metadata": {},
   "outputs": [
    {
     "data": {
      "text/plain": [
       "'AAPL'"
      ]
     },
     "execution_count": 96,
     "metadata": {},
     "output_type": "execute_result"
    }
   ],
   "source": [
    "min(prices, key=lambda k: prices[k]) # Returns 'FB'\n",
    "max(prices, key=lambda k: prices[k]) # Returns 'AAPL'"
   ]
  },
  {
   "cell_type": "code",
   "execution_count": 97,
   "metadata": {},
   "outputs": [],
   "source": [
    "a = {\n",
    " 'x' : 1,\n",
    " 'y' : 2,\n",
    " 'z' : 3\n",
    "}"
   ]
  },
  {
   "cell_type": "code",
   "execution_count": 98,
   "metadata": {},
   "outputs": [],
   "source": [
    "b = {\n",
    " 'w' : 10,\n",
    " 'x' : 11,\n",
    " 'y' : 2\n",
    "}"
   ]
  },
  {
   "cell_type": "code",
   "execution_count": 99,
   "metadata": {},
   "outputs": [
    {
     "data": {
      "text/plain": [
       "{'x', 'y'}"
      ]
     },
     "execution_count": 99,
     "metadata": {},
     "output_type": "execute_result"
    }
   ],
   "source": [
    "a.keys() & b.keys()"
   ]
  },
  {
   "cell_type": "code",
   "execution_count": 100,
   "metadata": {},
   "outputs": [
    {
     "data": {
      "text/plain": [
       "{'z'}"
      ]
     },
     "execution_count": 100,
     "metadata": {},
     "output_type": "execute_result"
    }
   ],
   "source": [
    "a.keys() - b.keys()"
   ]
  },
  {
   "cell_type": "code",
   "execution_count": 101,
   "metadata": {},
   "outputs": [
    {
     "data": {
      "text/plain": [
       "{('y', 2)}"
      ]
     },
     "execution_count": 101,
     "metadata": {},
     "output_type": "execute_result"
    }
   ],
   "source": [
    "a.items() & b.items()"
   ]
  },
  {
   "cell_type": "code",
   "execution_count": 102,
   "metadata": {},
   "outputs": [],
   "source": [
    "c = {key:a[key] for key in a.keys() - {'z', 'w'}}"
   ]
  },
  {
   "cell_type": "code",
   "execution_count": 103,
   "metadata": {},
   "outputs": [
    {
     "data": {
      "text/plain": [
       "{'x': 1, 'y': 2}"
      ]
     },
     "execution_count": 103,
     "metadata": {},
     "output_type": "execute_result"
    }
   ],
   "source": [
    "c"
   ]
  },
  {
   "cell_type": "code",
   "execution_count": 104,
   "metadata": {},
   "outputs": [],
   "source": [
    "def dedupe(items):\n",
    "    seen = set()\n",
    "    for item in items:\n",
    "        if item not in seen:\n",
    "            yield item\n",
    "            seen.add(item)"
   ]
  },
  {
   "cell_type": "code",
   "execution_count": 105,
   "metadata": {},
   "outputs": [],
   "source": [
    " a = [1, 5, 2, 1, 9, 1, 5, 10]"
   ]
  },
  {
   "cell_type": "code",
   "execution_count": 106,
   "metadata": {},
   "outputs": [
    {
     "data": {
      "text/plain": [
       "[1, 5, 2, 9, 10]"
      ]
     },
     "execution_count": 106,
     "metadata": {},
     "output_type": "execute_result"
    }
   ],
   "source": [
    "list(dedupe(a))"
   ]
  },
  {
   "cell_type": "code",
   "execution_count": 107,
   "metadata": {},
   "outputs": [],
   "source": [
    "def dedupe(items, key=None):\n",
    "    seen = set()\n",
    "    for item in items:\n",
    "        val = item if key is None else key(item)\n",
    "        if val not in seen:\n",
    "            yield item\n",
    "            seen.add(val)"
   ]
  },
  {
   "cell_type": "code",
   "execution_count": 151,
   "metadata": {},
   "outputs": [],
   "source": [
    "a = [ {'x':1, 'y':2}, {'x':1, 'y':3}, {'x':1, 'y':2}, {'x':2, 'y':4}]"
   ]
  },
  {
   "cell_type": "code",
   "execution_count": 152,
   "metadata": {},
   "outputs": [
    {
     "data": {
      "text/plain": [
       "[{'x': 1, 'y': 2}, {'x': 1, 'y': 3}, {'x': 2, 'y': 4}]"
      ]
     },
     "execution_count": 152,
     "metadata": {},
     "output_type": "execute_result"
    }
   ],
   "source": [
    "list(dedupe(a, key=lambda d: (d['x'],d['y'])))"
   ]
  },
  {
   "cell_type": "code",
   "execution_count": 153,
   "metadata": {},
   "outputs": [],
   "source": [
    "record = '01234567890123456789012345678901234567890123456789012345678900123456789012345678901234567890123456789012345678901234567890'"
   ]
  },
  {
   "cell_type": "code",
   "execution_count": 154,
   "metadata": {},
   "outputs": [],
   "source": [
    "cost = int(record[20:32]) * float(record[40:48])"
   ]
  },
  {
   "cell_type": "code",
   "execution_count": 155,
   "metadata": {},
   "outputs": [
    {
     "data": {
      "text/plain": [
       "1.5241567763770868e+16"
      ]
     },
     "execution_count": 155,
     "metadata": {},
     "output_type": "execute_result"
    }
   ],
   "source": [
    "cost"
   ]
  },
  {
   "cell_type": "code",
   "execution_count": 156,
   "metadata": {},
   "outputs": [],
   "source": [
    "SHARES = slice(20, 32)"
   ]
  },
  {
   "cell_type": "code",
   "execution_count": 157,
   "metadata": {},
   "outputs": [],
   "source": [
    "PRICE = slice(40,48)"
   ]
  },
  {
   "cell_type": "code",
   "execution_count": 158,
   "metadata": {},
   "outputs": [],
   "source": [
    "cost = int(record[SHARES]) * float(record[PRICE])"
   ]
  },
  {
   "cell_type": "code",
   "execution_count": 159,
   "metadata": {},
   "outputs": [
    {
     "data": {
      "text/plain": [
       "1.5241567763770868e+16"
      ]
     },
     "execution_count": 159,
     "metadata": {},
     "output_type": "execute_result"
    }
   ],
   "source": [
    "cost"
   ]
  },
  {
   "cell_type": "code",
   "execution_count": 160,
   "metadata": {},
   "outputs": [],
   "source": [
    " a = slice(10, 50, 2)"
   ]
  },
  {
   "cell_type": "code",
   "execution_count": 161,
   "metadata": {},
   "outputs": [
    {
     "data": {
      "text/plain": [
       "10"
      ]
     },
     "execution_count": 161,
     "metadata": {},
     "output_type": "execute_result"
    }
   ],
   "source": [
    "a.start"
   ]
  },
  {
   "cell_type": "code",
   "execution_count": 162,
   "metadata": {},
   "outputs": [
    {
     "data": {
      "text/plain": [
       "2"
      ]
     },
     "execution_count": 162,
     "metadata": {},
     "output_type": "execute_result"
    }
   ],
   "source": [
    "a.step"
   ]
  },
  {
   "cell_type": "code",
   "execution_count": 163,
   "metadata": {},
   "outputs": [
    {
     "data": {
      "text/plain": [
       "50"
      ]
     },
     "execution_count": 163,
     "metadata": {},
     "output_type": "execute_result"
    }
   ],
   "source": [
    "a.stop"
   ]
  },
  {
   "cell_type": "code",
   "execution_count": 164,
   "metadata": {},
   "outputs": [],
   "source": [
    " s = 'Hello World'"
   ]
  },
  {
   "cell_type": "code",
   "execution_count": 165,
   "metadata": {},
   "outputs": [
    {
     "data": {
      "text/plain": [
       "(10, 11, 2)"
      ]
     },
     "execution_count": 165,
     "metadata": {},
     "output_type": "execute_result"
    }
   ],
   "source": [
    " a.indices(len(s))"
   ]
  },
  {
   "cell_type": "code",
   "execution_count": 166,
   "metadata": {},
   "outputs": [
    {
     "name": "stdout",
     "output_type": "stream",
     "text": [
      "d\n"
     ]
    }
   ],
   "source": [
    " for i in range(*a.indices(len(s))):\n",
    "        print(s[i])"
   ]
  },
  {
   "cell_type": "code",
   "execution_count": 169,
   "metadata": {},
   "outputs": [
    {
     "data": {
      "text/plain": [
       "(10, 11, 2)"
      ]
     },
     "execution_count": 169,
     "metadata": {},
     "output_type": "execute_result"
    }
   ],
   "source": [
    " s = 'Hello World'\n",
    " a.indices(len(s))"
   ]
  },
  {
   "cell_type": "code",
   "execution_count": 170,
   "metadata": {},
   "outputs": [],
   "source": [
    "words = [\n",
    " 'look', 'into', 'my', 'eyes', 'look', 'into', 'my', 'eyes',\n",
    " 'the', 'eyes', 'the', 'eyes', 'the', 'eyes', 'not', 'around', 'the',\n",
    " 'eyes', \"don't\", 'look', 'around', 'the', 'eyes', 'look', 'into',\n",
    " 'my', 'eyes', \"you're\", 'under'\n",
    "]"
   ]
  },
  {
   "cell_type": "code",
   "execution_count": 171,
   "metadata": {},
   "outputs": [],
   "source": [
    "from collections import Counter"
   ]
  },
  {
   "cell_type": "code",
   "execution_count": 172,
   "metadata": {},
   "outputs": [],
   "source": [
    "word_counts = Counter(words)"
   ]
  },
  {
   "cell_type": "code",
   "execution_count": 173,
   "metadata": {},
   "outputs": [
    {
     "data": {
      "text/plain": [
       "Counter({'look': 4,\n",
       "         'into': 3,\n",
       "         'my': 3,\n",
       "         'eyes': 8,\n",
       "         'the': 5,\n",
       "         'not': 1,\n",
       "         'around': 2,\n",
       "         \"don't\": 1,\n",
       "         \"you're\": 1,\n",
       "         'under': 1})"
      ]
     },
     "execution_count": 173,
     "metadata": {},
     "output_type": "execute_result"
    }
   ],
   "source": [
    "word_counts"
   ]
  },
  {
   "cell_type": "code",
   "execution_count": 174,
   "metadata": {},
   "outputs": [],
   "source": [
    "top_three = word_counts.most_common(3)"
   ]
  },
  {
   "cell_type": "code",
   "execution_count": 175,
   "metadata": {},
   "outputs": [
    {
     "data": {
      "text/plain": [
       "[('eyes', 8), ('the', 5), ('look', 4)]"
      ]
     },
     "execution_count": 175,
     "metadata": {},
     "output_type": "execute_result"
    }
   ],
   "source": [
    "top_three"
   ]
  },
  {
   "cell_type": "code",
   "execution_count": 177,
   "metadata": {},
   "outputs": [
    {
     "data": {
      "text/plain": [
       "4"
      ]
     },
     "execution_count": 177,
     "metadata": {},
     "output_type": "execute_result"
    }
   ],
   "source": [
    "word_counts['look']"
   ]
  },
  {
   "cell_type": "code",
   "execution_count": 178,
   "metadata": {},
   "outputs": [],
   "source": [
    " morewords = ['why','are','you','not','looking','in','my','eyes']"
   ]
  },
  {
   "cell_type": "code",
   "execution_count": 179,
   "metadata": {},
   "outputs": [],
   "source": [
    "word_counts.update(morewords)"
   ]
  },
  {
   "cell_type": "code",
   "execution_count": 180,
   "metadata": {},
   "outputs": [
    {
     "data": {
      "text/plain": [
       "Counter({'look': 4,\n",
       "         'into': 3,\n",
       "         'my': 4,\n",
       "         'eyes': 9,\n",
       "         'the': 5,\n",
       "         'not': 2,\n",
       "         'around': 2,\n",
       "         \"don't\": 1,\n",
       "         \"you're\": 1,\n",
       "         'under': 1,\n",
       "         'why': 1,\n",
       "         'are': 1,\n",
       "         'you': 1,\n",
       "         'looking': 1,\n",
       "         'in': 1})"
      ]
     },
     "execution_count": 180,
     "metadata": {},
     "output_type": "execute_result"
    }
   ],
   "source": [
    "word_counts"
   ]
  },
  {
   "cell_type": "code",
   "execution_count": 181,
   "metadata": {},
   "outputs": [],
   "source": [
    "a = Counter(words)"
   ]
  },
  {
   "cell_type": "code",
   "execution_count": 182,
   "metadata": {},
   "outputs": [],
   "source": [
    "b = Counter(morewords)"
   ]
  },
  {
   "cell_type": "code",
   "execution_count": 183,
   "metadata": {},
   "outputs": [
    {
     "data": {
      "text/plain": [
       "Counter({'look': 4,\n",
       "         'into': 3,\n",
       "         'my': 4,\n",
       "         'eyes': 9,\n",
       "         'the': 5,\n",
       "         'not': 2,\n",
       "         'around': 2,\n",
       "         \"don't\": 1,\n",
       "         \"you're\": 1,\n",
       "         'under': 1,\n",
       "         'why': 1,\n",
       "         'are': 1,\n",
       "         'you': 1,\n",
       "         'looking': 1,\n",
       "         'in': 1})"
      ]
     },
     "execution_count": 183,
     "metadata": {},
     "output_type": "execute_result"
    }
   ],
   "source": [
    "a + b"
   ]
  },
  {
   "cell_type": "code",
   "execution_count": 184,
   "metadata": {},
   "outputs": [
    {
     "data": {
      "text/plain": [
       "Counter({'look': 4,\n",
       "         'into': 3,\n",
       "         'my': 2,\n",
       "         'eyes': 7,\n",
       "         'the': 5,\n",
       "         'around': 2,\n",
       "         \"don't\": 1,\n",
       "         \"you're\": 1,\n",
       "         'under': 1})"
      ]
     },
     "execution_count": 184,
     "metadata": {},
     "output_type": "execute_result"
    }
   ],
   "source": [
    "a - b"
   ]
  },
  {
   "cell_type": "code",
   "execution_count": null,
   "metadata": {},
   "outputs": [],
   "source": []
  }
 ],
 "metadata": {
  "kernelspec": {
   "display_name": "Python 3",
   "language": "python",
   "name": "python3"
  },
  "language_info": {
   "codemirror_mode": {
    "name": "ipython",
    "version": 3
   },
   "file_extension": ".py",
   "mimetype": "text/x-python",
   "name": "python",
   "nbconvert_exporter": "python",
   "pygments_lexer": "ipython3",
   "version": "3.6.0"
  }
 },
 "nbformat": 4,
 "nbformat_minor": 1
}
